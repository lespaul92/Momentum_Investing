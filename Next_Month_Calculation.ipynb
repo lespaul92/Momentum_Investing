{
 "cells": [
  {
   "cell_type": "markdown",
   "metadata": {},
   "source": [
    "1. Continuously Compounded Returns\n",
    "\\begin{equation}\n",
    "    r_t = \\ln (1+R_t) = \\ln \\left(\\frac{P_t}{P_{t-1}}\\right)\n",
    "\\end{equation}\n",
    "where $R_t$ is the simple monthly return, $r_t$ is the continuously compounded returns, and $P_t$ is the price of certain asset.\n",
    "\\begin{equation}\n",
    "    R_t = e^{r_t} -1\n",
    "\\end{equation}"
   ]
  },
  {
   "cell_type": "markdown",
   "metadata": {},
   "source": [
    "1.2 Multi-period Returns"
   ]
  },
  {
   "cell_type": "markdown",
   "metadata": {},
   "source": [
    "\n",
    "Consider the two-month continuously compounded return defined as:\n",
    "\\begin{equation}\n",
    "    r_t(2) = \\ln (1 + R_t(2)) = \\ln \\left( \\frac{P_t}{P_{t-2}} \\right) = \\ln P_t - \\ln P_{t-2}\n",
    "\\end{equation}\n",
    "\n",
    "\\begin{align}\n",
    "    r_t(2) &= \\ln \\left( \\frac{P_t}{P_{t-1}} \\cdot \\frac{P_{t-1}}{P_{t-2}} \\right)\\\\\n",
    "    &=\\ln \\left( \\frac{P_t}{P_{t-1}} \\right) + \\ln \\left( \\frac{P_{t-1}}{P_{t-2}} \\right) \\\\\n",
    "    &=r_t + r_{t-1}   \n",
    "\\end{align}\n",
    "We can express the continuously compounded $k$-month return as the sum of $k$ continuously compounded monthly returns:\n",
    "\\begin{equation}\n",
    "    r_t(k) = \\sum_{j=0} ^{k-1} r_{t-j}\n",
    "\\end{equation}"
   ]
  },
  {
   "cell_type": "markdown",
   "metadata": {},
   "source": [
    "1.3 Annualizing Continuously Compounded Returns"
   ]
  },
  {
   "cell_type": "markdown",
   "metadata": {},
   "source": [
    "The annual continuously compounded return is just the sum of the twelve monthly continuously compounded returns:\n",
    "\\begin{equation}\n",
    "    r_t(12) = \\sum_{j=0} ^{11} r_{t-j}\n",
    "\\end{equation}\n",
    "The average continuously compounded monthly return is defined as:\n",
    "\\begin{equation}\n",
    "    \\bar{r}_m = \\frac{1}{12}\\sum_{j=0} ^{11} r_{t-j}\n",
    "\\end{equation}"
   ]
  },
  {
   "cell_type": "markdown",
   "metadata": {},
   "source": [
    "2. Next Monthly Momentum Estimator"
   ]
  },
  {
   "cell_type": "markdown",
   "metadata": {},
   "source": [
    "Let's assume the continuously compounded return of next monthly return as:\n",
    "\\begin{equation}\n",
    "    r_{t+1} = \\frac{1}{n} \\sum_{j=1} ^{n} a_j \\frac{r_t(j)}{j} + b + \\epsilon_{t+1}\n",
    "\\end{equation}\n",
    "\n",
    "\\begin{equation}\n",
    "    r_{t+1} = \\frac{a_1}{n} r_t + \\frac{a_2}{n} \\frac{r_t(2)}{2} + \\frac{a_3}{n} \\frac{r_t(3)}{3} \\cdots + \\frac{a_n}{n} \\frac{r_t(n)}{n} + b + \\epsilon_t\n",
    "\\end{equation}\n",
    "\n",
    "\\begin{equation}\n",
    "    r_{t+1} = \\frac{a_1}{n} r_t + \\frac{a_2}{n} \\bar{r}_{m,2} + \\frac{a_3}{n} \\bar{r}_{m,3} \\cdots + \\frac{a_n}{n} \\bar{r}_{m,n} + b + \\epsilon_t\n",
    "\\end{equation}"
   ]
  },
  {
   "cell_type": "markdown",
   "metadata": {},
   "source": [
    "the above equation can be rewritten for the least square parameter estimation form as:\n",
    "\\begin{equation}\n",
    "    \\hat{r}_{t+1} = \\alpha_1 r_t + \\alpha_2 \\bar{r}_{m,2} + \\cdots + \\alpha_n \\bar{r}_{m,n} + b\n",
    "\\end{equation}\n",
    "After the error cost after least square batch estimation means the covariance of $\\epsilon_t$\n",
    "\\begin{equation}\n",
    "    E\\left[(r_{t+1} - \\hat{r}_{t+1})^2\\right] = E\\left[ \\epsilon ^2\\right] = \\sigma^2\n",
    "\\end{equation}"
   ]
  },
  {
   "cell_type": "markdown",
   "metadata": {},
   "source": [
    "Therefore $\\hat{r}_{t+1}$ is the expected next monthly return of certain asset and $\\sigma$ denotes the "
   ]
  },
  {
   "cell_type": "markdown",
   "metadata": {},
   "source": []
  },
  {
   "cell_type": "code",
   "execution_count": null,
   "metadata": {},
   "outputs": [],
   "source": [
    "\n"
   ]
  },
  {
   "cell_type": "markdown",
   "metadata": {},
   "source": []
  }
 ],
 "metadata": {
  "kernelspec": {
   "display_name": "Python 3.8.10 64-bit",
   "language": "python",
   "name": "python3"
  },
  "language_info": {
   "codemirror_mode": {
    "name": "ipython",
    "version": 3
   },
   "file_extension": ".py",
   "mimetype": "text/x-python",
   "name": "python",
   "nbconvert_exporter": "python",
   "pygments_lexer": "ipython3",
   "version": "3.8.10"
  },
  "orig_nbformat": 4,
  "vscode": {
   "interpreter": {
    "hash": "916dbcbb3f70747c44a77c7bcd40155683ae19c65e1c03b4aa3499c5328201f1"
   }
  }
 },
 "nbformat": 4,
 "nbformat_minor": 2
}
